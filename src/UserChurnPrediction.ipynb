{
 "cells": [
  {
   "cell_type": "code",
   "execution_count": 88,
   "id": "b8f31a71",
   "metadata": {},
   "outputs": [],
   "source": [
    "import pandas as pd\n",
    "import numpy as np\n",
    "from matplotlib import pyplot as plt\n",
    "from sklearn.impute import SimpleImputer\n",
    "\n",
    "import warnings\n",
    "warnings.filterwarnings('ignore')"
   ]
  },
  {
   "cell_type": "markdown",
   "id": "14d1880b",
   "metadata": {},
   "source": [
    "# Исследование данных"
   ]
  },
  {
   "cell_type": "markdown",
   "id": "aa743645",
   "metadata": {},
   "source": [
    "#### Загрузка данных"
   ]
  },
  {
   "cell_type": "code",
   "execution_count": 89,
   "id": "beebeeb6",
   "metadata": {},
   "outputs": [
    {
     "name": "stdout",
     "output_type": "stream",
     "text": [
      "ClientPeriod                0\n",
      "MonthlySpending             0\n",
      "TotalSpent                  9\n",
      "Sex                         0\n",
      "IsSeniorCitizen             0\n",
      "HasPartner                  0\n",
      "HasChild                    0\n",
      "HasPhoneService             0\n",
      "HasMultiplePhoneNumbers     0\n",
      "HasInternetService          0\n",
      "HasOnlineSecurityService    0\n",
      "HasOnlineBackup             0\n",
      "HasDeviceProtection         0\n",
      "HasTechSupportAccess        0\n",
      "HasOnlineTV                 0\n",
      "HasMovieSubscription        0\n",
      "HasContractPhone            0\n",
      "IsBillingPaperless          0\n",
      "PaymentMethod               0\n",
      "dtype: int64\n"
     ]
    }
   ],
   "source": [
    "# load the data\n",
    "data_train = pd.read_csv('data/train.csv')\n",
    "data_test = pd.read_csv('data/test.csv')\n",
    "submission = pd.read_csv('data/submission.csv')\n",
    "\n",
    "# Check random row\n",
    "random_number_train = np.random.randint(data_train.shape[0])\n",
    "random_number_test = np.random.randint(data_test.shape[0])\n",
    "#print(data_train.iloc[random_number_train])\n",
    "#print(data_test.iloc[random_number_test])\n",
    "\n",
    "# Select target\n",
    "y_train = data_train.Churn\n",
    "y_test = submission\n",
    "\n",
    "# Select features\n",
    "X_train = data_train.drop('Churn', axis=1)\n",
    "X_test = data_test\n",
    "\n",
    "#Check missing values\n",
    "#X_train.info()\n",
    "#X_test.info()\n",
    "\n",
    "cols_with_missing_X_train = [col for col in X_train\n",
    "                     if X_train[col].isnull().any() or (X_train[col] == ' ').any()]\n",
    "cols_with_missing_X_test = [col for col in X_test\n",
    "                     if X_test[col].isnull().any() or (X_test[col] == ' ').any()]\n",
    "#print('Cols with missing values in X_train:', cols_with_missing_X_train)\n",
    "#print('Cols with missing values in X_test:', cols_with_missing_X_test)\n",
    "\n",
    "# Imputation\n",
    "def to_float_TotalSpent(data: pd.DataFrame) -> pd.DataFrame:\n",
    "    \"\"\"\n",
    "    Get DataFrame and converts the TotalSpent column to float \n",
    "    empty values = np.nan\n",
    "    \"\"\"\n",
    "    for i, val in enumerate(data.TotalSpent):\n",
    "        if val == ' ':\n",
    "            data.TotalSpent.iloc[i] = np.nan\n",
    "    data = data.astype({'TotalSpent': 'float64'})\n",
    "    return data\n",
    "\n",
    "X_train = to_float_TotalSpent(X_train)\n",
    "X_test = to_float_TotalSpent(X_test)\n",
    "\n",
    "#print(X_train[X_train['TotalSpent'].isna()])\n",
    "print(X_train.isna().sum())\n",
    "\n",
    "TotalSpent_X_train = np.array(X_train.TotalSpent).reshape(-1, 1)\n",
    "TotalSpent_X_test = np.array(X_test.TotalSpent).reshape(-1, 1)\n",
    "\n",
    "my_imputer = SimpleImputer()\n",
    "imputed_TotalSpent_X_train = pd.DataFrame(my_imputer.fit_transform(TotalSpent_X_train))\n",
    "imputed_TotalSpent_X_test = pd.DataFrame(my_imputer.transform(TotalSpent_X_test))\n",
    "\n",
    "# Imputation removed column names: put the back and add in main DataFrame\n",
    "imputed_TotalSpent_X_train.columns = ['TotalSpent']\n",
    "imputed_TotalSpent_X_test.columns = ['TotalSpent']\n",
    "X_train.TotalSpent = imputed_TotalSpent_X_train\n",
    "X_test.TotalSpent = imputed_TotalSpent_X_test\n",
    "\n",
    "# Find numerical and categorical columns\n",
    "numerical_columns = [col for col in X_train\n",
    "                     if X_train[col].dtypes in ['int64', 'float64']]\n",
    "numerical_columns.remove('IsSeniorCitizen')\n",
    "categorical_columns = [col for col in X_train\n",
    "                       if X_train[col].dtypes == 'object']\n",
    "categorical_columns.append('IsSeniorCitizen')"
   ]
  },
  {
   "cell_type": "markdown",
   "id": "acb034ac",
   "metadata": {},
   "source": [
    "#### Анализ данных"
   ]
  },
  {
   "cell_type": "code",
   "execution_count": 115,
   "id": "8fbe73e0",
   "metadata": {},
   "outputs": [
    {
     "data": {
      "image/png": "[encoded data removed]",
      "text/plain": [
       "<Figure size 1080x360 with 3 Axes>"
      ]
     },
     "metadata": {
      "needs_background": "light"
     },
     "output_type": "display_data"
    }
   ],
   "source": [
    "fig, ax = plt.subplots(1, 3, figsize=(15,5))\n",
    "\n",
    "ax = ax.ravel()\n",
    "\n",
    "for i, column in enumerate(numerical_columns):\n",
    "    ax[i].set_title(column)\n",
    "    ax[i].hist(X_train[column])\n",
    "    \n",
    "fig.show()"
   ]
  },
  {
   "cell_type": "markdown",
   "id": "bd467709",
   "metadata": {},
   "source": [
    "#### Я попробовал проанализировать графики и думаю дела обстоят так:\n",
    "##### График ClientPeriod - думаю, эта калонка показывает сколько дней клиент пользуется услугами компании. Диапазон баров ~ 5. Получается у компании много новичков, которые держатся до 5 дней, после 5 дней примерно половина клиентов отключаются. Потеря клиентов идет до ~ 45-50 дней, после этого клиенты ,как правило, остаются.\n",
    "##### График  MonthlySpending - Ежемесячные расходы. диапазон баров\n",
    "\n"
   ]
  },
  {
   "cell_type": "code",
   "execution_count": null,
   "id": "9c9f7b31",
   "metadata": {},
   "outputs": [],
   "source": []
  }
 ],
 "metadata": {
  "kernelspec": {
   "display_name": "Python 3 (ipykernel)",
   "language": "python",
   "name": "python3"
  },
  "language_info": {
   "codemirror_mode": {
    "name": "ipython",
    "version": 3
   },
   "file_extension": ".py",
   "mimetype": "text/x-python",
   "name": "python",
   "nbconvert_exporter": "python",
   "pygments_lexer": "ipython3",
   "version": "3.9.2"
  }
 },
 "nbformat": 4,
 "nbformat_minor": 5
}
