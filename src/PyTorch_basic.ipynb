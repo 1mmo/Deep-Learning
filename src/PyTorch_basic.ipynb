{
 "cells": [
  {
   "cell_type": "code",
   "execution_count": 3,
   "id": "e374e5fa",
   "metadata": {},
   "outputs": [],
   "source": [
    "import torch"
   ]
  },
  {
   "cell_type": "markdown",
   "id": "699b4bb1",
   "metadata": {},
   "source": [
    "<h6><i>Тензор</i> - это многомерный вектор, например:</h6>\n",
    "<h6>x = np.array([1, 2, 3]) - вектор = тензор с 1 размерностью(точнее: (3,))</h6>\n",
    "<h6>y = np.array([[1, 2, 3], [4, 5, 6]]) - матрица = тензор с двумя измерениями ((2, 3) в данном случае)"
   ]
  },
  {
   "cell_type": "markdown",
   "id": "d0471e8d",
   "metadata": {},
   "source": [
    "### Создание тензора"
   ]
  },
  {
   "cell_type": "code",
   "execution_count": 2,
   "id": "26073e1b",
   "metadata": {},
   "outputs": [
    {
     "name": "stdout",
     "output_type": "stream",
     "text": [
      "tensor([1., 2.])\n"
     ]
    },
    {
     "data": {
      "text/plain": [
       "torch.Size([2])"
      ]
     },
     "execution_count": 2,
     "metadata": {},
     "output_type": "execute_result"
    }
   ],
   "source": [
    "a = torch.FloatTensor([1, 2]) # float32\n",
    "print(a)\n",
    "a.shape"
   ]
  },
  {
   "cell_type": "code",
   "execution_count": 3,
   "id": "9de7a930",
   "metadata": {},
   "outputs": [
    {
     "name": "stdout",
     "output_type": "stream",
     "text": [
      "tensor([[1., 2., 3.],\n",
      "        [4., 5., 6.]])\n"
     ]
    },
    {
     "data": {
      "text/plain": [
       "torch.Size([2, 3])"
      ]
     },
     "execution_count": 3,
     "metadata": {},
     "output_type": "execute_result"
    }
   ],
   "source": [
    "b = torch.FloatTensor([[1,2,3], [4,5,6]])\n",
    "print(b)\n",
    "b.shape"
   ]
  },
  {
   "cell_type": "code",
   "execution_count": 4,
   "id": "074d2791",
   "metadata": {},
   "outputs": [
    {
     "data": {
      "text/plain": [
       "tensor([[[-2.9625e-07,  4.5733e-41, -2.9625e-07,  4.5733e-41],\n",
       "         [ 1.4013e-45,  0.0000e+00,  0.0000e+00,  0.0000e+00],\n",
       "         [ 0.0000e+00,  0.0000e+00,  0.0000e+00,  0.0000e+00]],\n",
       "\n",
       "        [[ 7.7056e-36,  0.0000e+00,  2.5852e-36,  0.0000e+00],\n",
       "         [ 8.2309e-16,  4.5733e-41,  0.0000e+00,  0.0000e+00],\n",
       "         [ 0.0000e+00,  0.0000e+00,  0.0000e+00,  0.0000e+00]]])"
      ]
     },
     "execution_count": 4,
     "metadata": {},
     "output_type": "execute_result"
    }
   ],
   "source": [
    "x = torch.FloatTensor(2,3,4)\n",
    "x"
   ]
  },
  {
   "cell_type": "code",
   "execution_count": 5,
   "id": "9d088197",
   "metadata": {},
   "outputs": [
    {
     "data": {
      "text/plain": [
       "torch.Size([100])"
      ]
     },
     "execution_count": 5,
     "metadata": {},
     "output_type": "execute_result"
    }
   ],
   "source": [
    "x = torch.FloatTensor(100)\n",
    "x.shape"
   ]
  },
  {
   "cell_type": "code",
   "execution_count": 6,
   "id": "ec5781f1",
   "metadata": {},
   "outputs": [
    {
     "data": {
      "text/plain": [
       "torch.Size([45, 57, 14, 2])"
      ]
     },
     "execution_count": 6,
     "metadata": {},
     "output_type": "execute_result"
    }
   ],
   "source": [
    "x = torch.IntTensor(45, 57, 14, 2)\n",
    "x.shape"
   ]
  },
  {
   "cell_type": "markdown",
   "id": "0eeaafde",
   "metadata": {},
   "source": [
    "##### Если создавать torch,Tensor то генерируются случайные числа"
   ]
  },
  {
   "cell_type": "markdown",
   "id": "bffdb7db",
   "metadata": {},
   "source": [
    "### Инициализация тензоров"
   ]
  },
  {
   "cell_type": "code",
   "execution_count": 7,
   "id": "8d5da507",
   "metadata": {},
   "outputs": [
    {
     "data": {
      "text/plain": [
       "tensor([[[0., 0., 0., 0.],\n",
       "         [0., 0., 0., 0.]],\n",
       "\n",
       "        [[0., 0., 0., 0.],\n",
       "         [0., 0., 0., 0.]],\n",
       "\n",
       "        [[0., 0., 0., 0.],\n",
       "         [0., 0., 0., 0.]]])"
      ]
     },
     "execution_count": 7,
     "metadata": {},
     "output_type": "execute_result"
    }
   ],
   "source": [
    "x1 = torch.FloatTensor(3, 2, 4)\n",
    "x2 = torch.zeros(3, 2, 4)\n",
    "x3 = torch.zeros_like(x1)\n",
    "x3"
   ]
  },
  {
   "cell_type": "code",
   "execution_count": 8,
   "id": "a87a5694",
   "metadata": {},
   "outputs": [
    {
     "data": {
      "text/plain": [
       "tensor([[ 0.9476, -0.2932, -0.8543],\n",
       "        [ 1.5106, -0.4305,  1.9627]])"
      ]
     },
     "execution_count": 8,
     "metadata": {},
     "output_type": "execute_result"
    }
   ],
   "source": [
    "x = torch.randn((2, 3))\n",
    "x"
   ]
  },
  {
   "cell_type": "code",
   "execution_count": 9,
   "id": "a97d12b3",
   "metadata": {},
   "outputs": [
    {
     "data": {
      "text/plain": [
       "tensor([[0., 0., 0.],\n",
       "        [0., 1., 0.]])"
      ]
     },
     "execution_count": 9,
     "metadata": {},
     "output_type": "execute_result"
    }
   ],
   "source": [
    "x.random_(0, 10) # Дискретное равномерное\n",
    "x.uniform_(0, 1) # Равномерное\n",
    "x.normal_(mean=0, std=1)  # норм распределение со средним 0 и дисперсией 1\n",
    "x.bernoulli_(p=0.5)"
   ]
  },
  {
   "cell_type": "markdown",
   "id": "a46d0981",
   "metadata": {},
   "source": [
    "### Изменение формы\n",
    "##### np.reshape() == torch.view()"
   ]
  },
  {
   "cell_type": "markdown",
   "id": "8b6399cc",
   "metadata": {},
   "source": [
    "b"
   ]
  },
  {
   "cell_type": "code",
   "execution_count": 10,
   "id": "445a68db",
   "metadata": {},
   "outputs": [
    {
     "data": {
      "text/plain": [
       "tensor([[1., 2.],\n",
       "        [3., 4.],\n",
       "        [5., 6.]])"
      ]
     },
     "execution_count": 10,
     "metadata": {},
     "output_type": "execute_result"
    }
   ],
   "source": [
    "b.view(3, 2)"
   ]
  },
  {
   "cell_type": "code",
   "execution_count": 11,
   "id": "49013e8c",
   "metadata": {},
   "outputs": [
    {
     "data": {
      "text/plain": [
       "(tensor([[1., 2., 3.],\n",
       "         [4., 5., 6.]]),\n",
       " (3, 1))"
      ]
     },
     "execution_count": 11,
     "metadata": {},
     "output_type": "execute_result"
    }
   ],
   "source": [
    "b, b.stride()"
   ]
  },
  {
   "cell_type": "code",
   "execution_count": 12,
   "id": "afb34e7e",
   "metadata": {},
   "outputs": [
    {
     "data": {
      "text/plain": [
       "tensor([[1.],\n",
       "        [2.],\n",
       "        [3.],\n",
       "        [4.],\n",
       "        [5.],\n",
       "        [6.]])"
      ]
     },
     "execution_count": 12,
     "metadata": {},
     "output_type": "execute_result"
    }
   ],
   "source": [
    "b.reshape(6, 1)"
   ]
  },
  {
   "cell_type": "markdown",
   "id": "5e61c7a3",
   "metadata": {},
   "source": [
    "### Изменение типа тензора"
   ]
  },
  {
   "cell_type": "code",
   "execution_count": 16,
   "id": "bd4da8b0",
   "metadata": {},
   "outputs": [
    {
     "data": {
      "text/plain": [
       "tensor([ 1,  3, -7], dtype=torch.int32)"
      ]
     },
     "execution_count": 16,
     "metadata": {},
     "output_type": "execute_result"
    }
   ],
   "source": [
    "a = torch.FloatTensor([1.5, 3.2, -7])\n",
    "a.type_as(torch.IntTensor())"
   ]
  },
  {
   "cell_type": "code",
   "execution_count": 17,
   "id": "ce1d1c5d",
   "metadata": {},
   "outputs": [
    {
     "data": {
      "text/plain": [
       "tensor([ 1,  3, -7], dtype=torch.int32)"
      ]
     },
     "execution_count": 17,
     "metadata": {},
     "output_type": "execute_result"
    }
   ],
   "source": [
    "a.to(torch.int32)"
   ]
  },
  {
   "cell_type": "markdown",
   "id": "c2019faa",
   "metadata": {},
   "source": [
    "  ### Фиктивные оси"
   ]
  },
  {
   "cell_type": "code",
   "execution_count": 25,
   "id": "a02350f3",
   "metadata": {},
   "outputs": [
    {
     "data": {
      "text/plain": [
       "torch.Size([3, 1, 3])"
      ]
     },
     "execution_count": 25,
     "metadata": {},
     "output_type": "execute_result"
    }
   ],
   "source": [
    "a = torch.FloatTensor([[1, 2, 3], [10, 20, 30], [100, 200, 300]])\n",
    "a[:, None, :].shape"
   ]
  },
  {
   "cell_type": "code",
   "execution_count": 27,
   "id": "3b90b4fd",
   "metadata": {},
   "outputs": [
    {
     "data": {
      "text/plain": [
       "tensor([[[  1.],\n",
       "         [  2.],\n",
       "         [  3.]],\n",
       "\n",
       "        [[ 10.],\n",
       "         [ 20.],\n",
       "         [ 30.]],\n",
       "\n",
       "        [[100.],\n",
       "         [200.],\n",
       "         [300.]]])"
      ]
     },
     "execution_count": 27,
     "metadata": {},
     "output_type": "execute_result"
    }
   ],
   "source": [
    "a[:, :, None]"
   ]
  },
  {
   "cell_type": "code",
   "execution_count": 35,
   "id": "9ff97baa",
   "metadata": {},
   "outputs": [
    {
     "name": "stdout",
     "output_type": "stream",
     "text": [
      "tensor(2.5000)\n",
      "tensor(3.)\n",
      "tensor(4.)\n"
     ]
    }
   ],
   "source": [
    "def vertical_means(A):\n",
    "    \"\"\"\n",
    "    param A: torch.tensor[m,n]\n",
    "    \"\"\"\n",
    "    rows = A.shape[0]\n",
    "    columns = A.shape[1]\n",
    "    for col in range(columns):\n",
    "         print(A[:, col].mean())\n",
    "    \n",
    "vertical_means(torch.FloatTensor([[2, 2, 3], [3, 4, 5]]))\n",
    "            \n",
    "    "
   ]
  },
  {
   "cell_type": "code",
   "execution_count": 39,
   "id": "f11e571a",
   "metadata": {},
   "outputs": [
    {
     "data": {
      "text/plain": [
       "tensor([2.3333, 4.0000])"
      ]
     },
     "execution_count": 39,
     "metadata": {},
     "output_type": "execute_result"
    }
   ],
   "source": [
    "def vertical_means(A):\n",
    "    \"\"\"\n",
    "    param A: torch.tensor[m,n]\n",
    "    \"\"\"\n",
    "    result = A.mean(dim=0)\n",
    "    return result\n",
    "    \n",
    "A = torch.FloatTensor([[2, 2, 3], [3, 4, 5]])\n",
    "vertical_means(A)            "
   ]
  },
  {
   "cell_type": "code",
   "execution_count": 57,
   "id": "5c897bdd",
   "metadata": {},
   "outputs": [
    {
     "data": {
      "text/plain": [
       "tensor(1.0000)"
      ]
     },
     "execution_count": 57,
     "metadata": {},
     "output_type": "execute_result"
    }
   ],
   "source": [
    "def normalize_pictures(A):\n",
    "    \"\"\"\n",
    "    param A: torch.Tensor[batch_size, num_channels, width, heigth]\n",
    "    \"\"\"\n",
    "    m = A.mean(dim=(2, 3))\n",
    "    sigma = A.std(dim=(2, 3))\n",
    "    result = (A - m[:, :, None, None])/sigma[:, :, None, None]\n",
    "    return result\n",
    "\n",
    "batch = torch.randint(0, 156, (64, 3, 300, 300), dtype=torch.float32)\n",
    "batch.mean(dim=(2,3)) # .shape\n",
    "normalize_pictures(batch).std()"
   ]
  },
  {
   "cell_type": "markdown",
   "id": "b737789e",
   "metadata": {},
   "source": [
    "### Матричные операции"
   ]
  },
  {
   "cell_type": "code",
   "execution_count": 58,
   "id": "401c8aad",
   "metadata": {},
   "outputs": [
    {
     "data": {
      "text/plain": [
       "tensor([[  1.,   2.,   3.],\n",
       "        [ 10.,  20.,  30.],\n",
       "        [100., 200., 300.]])"
      ]
     },
     "execution_count": 58,
     "metadata": {},
     "output_type": "execute_result"
    }
   ],
   "source": [
    "a = torch.FloatTensor([[1, 2, 3], [10, 20, 30], [100, 200, 300]])\n",
    "a"
   ]
  },
  {
   "cell_type": "code",
   "execution_count": 59,
   "id": "73833239",
   "metadata": {},
   "outputs": [
    {
     "data": {
      "text/plain": [
       "tensor([[  1.,  10., 100.],\n",
       "        [  2.,  20., 200.],\n",
       "        [  3.,  30., 300.]])"
      ]
     },
     "execution_count": 59,
     "metadata": {},
     "output_type": "execute_result"
    }
   ],
   "source": [
    "a.t()"
   ]
  },
  {
   "cell_type": "code",
   "execution_count": 60,
   "id": "7beb02d6",
   "metadata": {},
   "outputs": [
    {
     "data": {
      "text/plain": [
       "tensor([[  1.,   2.,   3.],\n",
       "        [ 10.,  20.,  30.],\n",
       "        [100., 200., 300.]])"
      ]
     },
     "execution_count": 60,
     "metadata": {},
     "output_type": "execute_result"
    }
   ],
   "source": [
    "a"
   ]
  },
  {
   "cell_type": "markdown",
   "id": "1f825fce",
   "metadata": {},
   "source": [
    "### Скалярное произведение векторов"
   ]
  },
  {
   "cell_type": "code",
   "execution_count": 61,
   "id": "73374e72",
   "metadata": {},
   "outputs": [],
   "source": [
    "a = torch.FloatTensor([1, 2, 3, 4, 5, 6])\n",
    "b = torch.FloatTensor([-1, -2, -4, -6, -8, -10])"
   ]
  },
  {
   "cell_type": "code",
   "execution_count": 63,
   "id": "0be4b273",
   "metadata": {},
   "outputs": [
    {
     "data": {
      "text/plain": [
       "(torch.Size([6]), torch.Size([6]))"
      ]
     },
     "execution_count": 63,
     "metadata": {},
     "output_type": "execute_result"
    }
   ],
   "source": [
    "a.shape, b.shape"
   ]
  },
  {
   "cell_type": "code",
   "execution_count": 64,
   "id": "064e6c1d",
   "metadata": {},
   "outputs": [
    {
     "data": {
      "text/plain": [
       "tensor(-141.)"
      ]
     },
     "execution_count": 64,
     "metadata": {},
     "output_type": "execute_result"
    }
   ],
   "source": [
    " a @ b"
   ]
  },
  {
   "cell_type": "code",
   "execution_count": 65,
   "id": "41d5cbf5",
   "metadata": {},
   "outputs": [
    {
     "data": {
      "text/plain": [
       "torch.Tensor"
      ]
     },
     "execution_count": 65,
     "metadata": {},
     "output_type": "execute_result"
    }
   ],
   "source": [
    "type(a)"
   ]
  },
  {
   "cell_type": "code",
   "execution_count": 66,
   "id": "db31eab2",
   "metadata": {},
   "outputs": [
    {
     "data": {
      "text/plain": [
       "torch.Tensor"
      ]
     },
     "execution_count": 66,
     "metadata": {},
     "output_type": "execute_result"
    }
   ],
   "source": [
    "type(a @ b)"
   ]
  },
  {
   "cell_type": "markdown",
   "id": "0b41ce0c",
   "metadata": {},
   "source": [
    "### Матричное произведение"
   ]
  },
  {
   "cell_type": "code",
   "execution_count": 68,
   "id": "b2e2e802",
   "metadata": {},
   "outputs": [
    {
     "data": {
      "text/plain": [
       "tensor([[  -321.,   -642.,   -963.],\n",
       "        [ -3210.,  -6420.,  -9630.],\n",
       "        [-32100., -64200., -96300.]])"
      ]
     },
     "execution_count": 68,
     "metadata": {},
     "output_type": "execute_result"
    }
   ],
   "source": [
    "a = torch.FloatTensor([[1, 2, 3], [10, 20, 30], [100, 200, 300]])\n",
    "b = torch.FloatTensor([[-1, -2, -3], [-10, -20, -30], [-100, -200, -300]])\n",
    "a.mm(b)"
   ]
  },
  {
   "cell_type": "code",
   "execution_count": 69,
   "id": "724ac549",
   "metadata": {},
   "outputs": [
    {
     "data": {
      "text/plain": [
       "tensor([[  -321.,   -642.,   -963.],\n",
       "        [ -3210.,  -6420.,  -9630.],\n",
       "        [-32100., -64200., -96300.]])"
      ]
     },
     "execution_count": 69,
     "metadata": {},
     "output_type": "execute_result"
    }
   ],
   "source": [
    "a @ b"
   ]
  },
  {
   "cell_type": "code",
   "execution_count": 73,
   "id": "f1b3a99f",
   "metadata": {},
   "outputs": [
    {
     "data": {
      "text/plain": [
       "tensor([  279.,  2790., 27900.])"
      ]
     },
     "execution_count": 73,
     "metadata": {},
     "output_type": "execute_result"
    }
   ],
   "source": [
    "b = torch.FloatTensor([[-1], [-10], [100]])\n",
    "a @ b.view(-1)"
   ]
  },
  {
   "cell_type": "code",
   "execution_count": 14,
   "id": "d2a15b3e",
   "metadata": {},
   "outputs": [],
   "source": [
    "def forward_pass(X, w):\n",
    "    result = torch.sigmoid(X @ w)\n",
    "    \n",
    "    \n",
    "    return result"
   ]
  },
  {
   "cell_type": "code",
   "execution_count": 15,
   "id": "42747703",
   "metadata": {},
   "outputs": [
    {
     "name": "stdout",
     "output_type": "stream",
     "text": [
      "tensor([[-5.,  5.],\n",
      "        [ 2.,  3.],\n",
      "        [ 1., -1.]])\n",
      "tensor([[-0.5000],\n",
      "        [ 2.5000]])\n"
     ]
    },
    {
     "data": {
      "text/plain": [
       "tensor([[1.0000],\n",
       "        [0.9985],\n",
       "        [0.0474]])"
      ]
     },
     "execution_count": 15,
     "metadata": {},
     "output_type": "execute_result"
    }
   ],
   "source": [
    "X = torch.FloatTensor([[-5, 5], [2, 3], [1, -1]])\n",
    "print(X)\n",
    "w = torch.FloatTensor([[-0.5], [2.5]])\n",
    "print(w)\n",
    "forward_pass(X, w)"
   ]
  },
  {
   "cell_type": "markdown",
   "id": "4f785c03",
   "metadata": {},
   "source": [
    "# CPU(Central Processing Unit) and GPU(Graphical Processing Unit)"
   ]
  },
  {
   "cell_type": "code",
   "execution_count": 29,
   "id": "c88d03a1",
   "metadata": {},
   "outputs": [
    {
     "data": {
      "text/plain": [
       "False"
      ]
     },
     "execution_count": 29,
     "metadata": {},
     "output_type": "execute_result"
    }
   ],
   "source": [
    "x = torch.FloatTensor(1024, 10024).uniform_()\n",
    "x.is_cuda"
   ]
  },
  {
   "cell_type": "markdown",
   "id": "f09ae9b0",
   "metadata": {},
   "source": [
    "### Кладем тензор на GPU"
   ]
  },
  {
   "cell_type": "code",
   "execution_count": 35,
   "id": "80dcb4c0",
   "metadata": {},
   "outputs": [
    {
     "data": {
      "text/plain": [
       "tensor([[3.4680e-01, 6.6231e-03, 3.4280e-01,  ..., 9.1482e-01, 7.0420e-01,\n",
       "         9.4229e-01],\n",
       "        [3.9376e-01, 5.4366e-02, 4.2599e-01,  ..., 2.1922e-01, 8.5599e-01,\n",
       "         9.1246e-01],\n",
       "        [9.4693e-01, 3.7408e-02, 6.6948e-01,  ..., 8.8969e-01, 8.5006e-01,\n",
       "         6.7643e-02],\n",
       "        ...,\n",
       "        [4.6188e-01, 3.8083e-01, 1.4788e-01,  ..., 5.5873e-01, 9.0728e-01,\n",
       "         2.6053e-01],\n",
       "        [2.7966e-01, 9.7320e-01, 4.0463e-02,  ..., 3.2975e-01, 1.6889e-02,\n",
       "         4.1528e-01],\n",
       "        [6.9989e-01, 2.7685e-01, 9.2682e-01,  ..., 4.5580e-04, 2.6526e-01,\n",
       "         3.9658e-01]])"
      ]
     },
     "execution_count": 35,
     "metadata": {},
     "output_type": "execute_result"
    }
   ],
   "source": [
    "device = torch.device('cuda:0') if torch.cuda.is_available() else torch.device('cpu')\n",
    "x = x.to(device)\n",
    "x"
   ]
  },
  {
   "cell_type": "code",
   "execution_count": 36,
   "id": "c99d3d68",
   "metadata": {},
   "outputs": [],
   "source": [
    "x = torch.FloatTensor(5, 5, 5).uniform_()\n",
    "if torch.cuda.is_available():\n",
    "    # получить имя устройства CUDA\n",
    "    device = torch.device('cuda')\n",
    "    y = torch.ones_like(x, device=device)\n",
    "    x = x.to(device)\n",
    "    z = x + y\n",
    "    print(z)\n",
    "    print(z.to('cpu', torch.double))\n",
    "    "
   ]
  },
  {
   "cell_type": "markdown",
   "id": "09b02929",
   "metadata": {},
   "source": [
    "### Реализуем обучение в логистической регрессии"
   ]
  },
  {
   "cell_type": "code",
   "execution_count": 1,
   "id": "0fe1c27e",
   "metadata": {},
   "outputs": [
    {
     "name": "stderr",
     "output_type": "stream",
     "text": [
      "/home/yunost/Desktop/github/Deep-Learning/jupyterenv/lib/python3.9/site-packages/sklearn/utils/deprecation.py:87: FutureWarning: Function load_boston is deprecated; `load_boston` is deprecated in 1.0 and will be removed in 1.2.\n",
      "\n",
      "    The Boston housing prices dataset has an ethical problem. You can refer to\n",
      "    the documentation of this function for further details.\n",
      "\n",
      "    The scikit-learn maintainers therefore strongly discourage the use of this\n",
      "    dataset unless the purpose of the code is to study and educate about\n",
      "    ethical issues in data science and machine learning.\n",
      "\n",
      "    In this special case, you can fetch the dataset from the original\n",
      "    source::\n",
      "\n",
      "        import pandas as pd\n",
      "        import numpy as np\n",
      "\n",
      "\n",
      "        data_url = \"http://lib.stat.cmu.edu/datasets/boston\"\n",
      "        raw_df = pd.read_csv(data_url, sep=\"\\s+\", skiprows=22, header=None)\n",
      "        data = np.hstack([raw_df.values[::2, :], raw_df.values[1::2, :2]])\n",
      "        target = raw_df.values[1::2, 2]\n",
      "\n",
      "    Alternative datasets include the California housing dataset (i.e.\n",
      "    :func:`~sklearn.datasets.fetch_california_housing`) and the Ames housing\n",
      "    dataset. You can load the datasets as follows::\n",
      "\n",
      "        from sklearn.datasets import fetch_california_housing\n",
      "        housing = fetch_california_housing()\n",
      "\n",
      "    for the California housing dataset and::\n",
      "\n",
      "        from sklearn.datasets import fetch_openml\n",
      "        housing = fetch_openml(name=\"house_prices\", as_frame=True)\n",
      "\n",
      "    for the Ames housing dataset.\n",
      "    \n",
      "  warnings.warn(msg, category=FutureWarning)\n"
     ]
    },
    {
     "data": {
      "text/plain": [
       "<matplotlib.collections.PathCollection at 0x7effbc90e190>"
      ]
     },
     "execution_count": 1,
     "metadata": {},
     "output_type": "execute_result"
    },
    {
     "data": {
      "image/png": "[encoded data removed]",
      "text/plain": [
       "<Figure size 432x288 with 1 Axes>"
      ]
     },
     "metadata": {
      "needs_background": "light"
     },
     "output_type": "display_data"
    }
   ],
   "source": [
    "import matplotlib.pyplot as plt\n",
    "import torch\n",
    "%matplotlib inline\n",
    "from sklearn.datasets import load_boston\n",
    "boston = load_boston()\n",
    "plt.scatter(boston.data[:, -1], boston.target[:])"
   ]
  },
  {
   "cell_type": "code",
   "execution_count": 14,
   "id": "9803b0ea",
   "metadata": {},
   "outputs": [],
   "source": [
    "w = torch.zeros(1, requires_grad=True)\n",
    "b = torch.zeros(1, requires_grad=True)\n",
    "\n",
    "x = torch.tensor(boston.data[:, -1] / 10, dtype=torch.float32)\n",
    "y = torch.tensor(boston.target, dtype=torch.float32)"
   ]
  },
  {
   "cell_type": "code",
   "execution_count": 15,
   "id": "4ec3c5b9",
   "metadata": {},
   "outputs": [],
   "source": [
    "y_pred = w * x + b\n",
    "loss = torch.mean((y_pred - y)**2)\n",
    "\n",
    "# propagate gradients\n",
    "loss.backward()"
   ]
  },
  {
   "cell_type": "code",
   "execution_count": 16,
   "id": "321fdd60",
   "metadata": {},
   "outputs": [
    {
     "name": "stdout",
     "output_type": "stream",
     "text": [
      "dL/dw = tensor([-47.3514])\n",
      "dL/db = tensor([-45.0656])\n"
     ]
    }
   ],
   "source": [
    "print('dL/dw =', w.grad)\n",
    "print('dL/db =', b.grad)"
   ]
  },
  {
   "cell_type": "code",
   "execution_count": 18,
   "id": "5714da4c",
   "metadata": {},
   "outputs": [
    {
     "data": {
      "image/png": "[encoded data removed]",
      "text/plain": [
       "<Figure size 432x288 with 1 Axes>"
      ]
     },
     "metadata": {
      "needs_background": "light"
     },
     "output_type": "display_data"
    },
    {
     "name": "stdout",
     "output_type": "stream",
     "text": [
      "loss =  38.668156\n"
     ]
    }
   ],
   "source": [
    "from IPython.display import clear_output\n",
    "\n",
    "for i in range(100):\n",
    "    y_pred = w * x + b\n",
    "    print(f'y_pred = {y_pred[0:5]}')\n",
    "    \n",
    "    loss = torch.mean((y_pred - y)**2)\n",
    "    print(f'loss = {loss}')\n",
    "    # Вычисляем градиенты\n",
    "    loss.backward()\n",
    "    print(f'w.grad = {w.grad}')\n",
    "    print(f'b.grad = {b.grad}')\n",
    "    \n",
    "    # Делаем шаг градиентного спуска\n",
    "    w.data -= 0.05 * w.grad\n",
    "    b.data -= 0.05 * b.grad\n",
    "    \n",
    "    # обнуляем градиенты\n",
    "    w.grad.data.zero_()\n",
    "    b.grad.data.zero_()\n",
    "    \n",
    "    if (i+1) % 5 == 0:\n",
    "        clear_output(True)\n",
    "        plt.scatter(x.data.numpy(), y.data.numpy())\n",
    "        plt.scatter(x.data.numpy(), y_pred.data.numpy(),\n",
    "                    color='orange', linewidth=5)\n",
    "        plt.show()\n",
    "        \n",
    "        print(\"loss = \", loss.data.numpy())\n",
    "        if loss.data.numpy() < 0.5:\n",
    "            print(\"Done\")"
   ]
  },
  {
   "cell_type": "markdown",
   "id": "83b80393",
   "metadata": {},
   "source": [
    "## Градиенты на примере двухслойной сети"
   ]
  },
  {
   "cell_type": "code",
   "execution_count": 23,
   "id": "4ada6f9f",
   "metadata": {},
   "outputs": [
    {
     "data": {
      "text/plain": [
       "tensor([[ 0.7133, -2.5698, -1.0160],\n",
       "        [ 1.4949, -0.3236, -0.0401],\n",
       "        [ 0.5315, -1.8467,  1.0078],\n",
       "        [-0.1714, -0.9581, -0.1195],\n",
       "        [-1.8249,  0.9174, -0.9657],\n",
       "        [-1.1005,  0.0445, -0.0786],\n",
       "        [-1.4305,  0.7234, -0.3138],\n",
       "        [ 1.5604,  0.8829, -0.4660],\n",
       "        [ 0.2909,  0.7218,  0.3106],\n",
       "        [ 0.3395,  1.1035,  0.1245],\n",
       "        [ 1.9215, -2.1267, -0.4481],\n",
       "        [-0.3900, -0.0581,  0.6348],\n",
       "        [-1.0654,  0.5134, -0.0935],\n",
       "        [-1.7016,  1.8267, -0.7347],\n",
       "        [ 1.8316,  1.4852,  1.2300],\n",
       "        [-0.8263,  1.4787,  1.2442],\n",
       "        [-0.2822,  2.1601, -1.2710],\n",
       "        [-0.4489,  1.0921,  1.0067],\n",
       "        [ 0.5285, -0.5742, -0.0413],\n",
       "        [-1.4423,  1.9570,  0.1974],\n",
       "        [-1.3577,  1.3331, -0.6931],\n",
       "        [-0.1237,  0.5102, -0.6693],\n",
       "        [ 1.3191, -1.5710, -0.8810],\n",
       "        [-0.5310,  0.4723,  0.5133],\n",
       "        [-0.3846, -0.6207, -1.1586],\n",
       "        [-0.4453, -0.4542,  1.7067],\n",
       "        [-1.1195,  0.6644, -1.6216],\n",
       "        [ 0.4076, -0.4805, -0.3184],\n",
       "        [-0.2094,  1.9572, -0.2704],\n",
       "        [-0.5508,  0.4099,  0.1245],\n",
       "        [-0.7847, -0.6475, -0.1897],\n",
       "        [-0.5385,  0.7879, -1.4359],\n",
       "        [-1.0099, -0.6180,  0.3308],\n",
       "        [-1.2533,  0.1067, -2.1804],\n",
       "        [-0.2699, -0.7457, -0.9808],\n",
       "        [ 0.5134,  0.0550, -1.2989],\n",
       "        [ 0.6146, -0.2871, -0.5375],\n",
       "        [-0.4982, -0.0086, -0.7321],\n",
       "        [ 1.3615, -0.1931, -1.6895],\n",
       "        [ 0.1611,  2.0362,  0.1751],\n",
       "        [ 0.5891,  0.7075,  1.4831],\n",
       "        [ 2.0101, -0.8470,  0.3037],\n",
       "        [ 1.5938,  0.1662,  1.1472],\n",
       "        [-2.2374,  1.5011, -0.4425],\n",
       "        [ 1.1015,  1.0080, -1.6187],\n",
       "        [ 0.2318,  0.7256,  0.1780],\n",
       "        [-0.1619,  0.3538,  0.2932],\n",
       "        [ 1.0271, -2.1346,  0.3379],\n",
       "        [-1.5500, -0.3928,  0.6917],\n",
       "        [-0.2942, -0.0510, -0.5889],\n",
       "        [-1.0166, -1.2348, -0.7744],\n",
       "        [-0.9222,  1.3682, -1.4373],\n",
       "        [ 0.3721, -1.8605, -0.4490],\n",
       "        [ 1.7161,  1.7333, -0.2309],\n",
       "        [ 0.4235, -1.4032,  0.3602],\n",
       "        [ 1.3738, -1.3531, -0.3926],\n",
       "        [ 0.7968, -0.0361, -0.0497],\n",
       "        [ 2.6926,  0.5961, -0.1351],\n",
       "        [-0.6858,  0.4231, -0.7586],\n",
       "        [-0.4110, -0.5434,  2.3220],\n",
       "        [-1.4771,  0.2167, -0.2810],\n",
       "        [-0.8734, -0.4787,  0.6995],\n",
       "        [ 1.0817, -2.1346, -0.4376],\n",
       "        [-1.4725, -1.3477, -2.0084]])"
      ]
     },
     "execution_count": 23,
     "metadata": {},
     "output_type": "execute_result"
    }
   ],
   "source": [
    "dtype = torch.float\n",
    "\n",
    "# N - размер батча; D_in - входной размер;\n",
    "# H - размер скрытого слоя; D_out - размер вывода.\n",
    "N, D_in, H, D_out = 64, 3, 3, 10\n",
    "\n",
    "# Создание случайных тензоров для хранения входных и выходных данных.\n",
    "# Настройка requires_grad = False указывает, что там не нужно вычилсять градиенты\n",
    "# по отношению к этим тензорам во время обратного прохода.\n",
    "\n",
    "x = torch.randn(N, D_in, dtype=dtype)\n",
    "x"
   ]
  },
  {
   "cell_type": "code",
   "execution_count": null,
   "id": "2d0991d2",
   "metadata": {},
   "outputs": [],
   "source": []
  }
 ],
 "metadata": {
  "kernelspec": {
   "display_name": "Python 3 (ipykernel)",
   "language": "python",
   "name": "python3"
  },
  "language_info": {
   "codemirror_mode": {
    "name": "ipython",
    "version": 3
   },
   "file_extension": ".py",
   "mimetype": "text/x-python",
   "name": "python",
   "nbconvert_exporter": "python",
   "pygments_lexer": "ipython3",
   "version": "3.9.2"
  }
 },
 "nbformat": 4,
 "nbformat_minor": 5
}
